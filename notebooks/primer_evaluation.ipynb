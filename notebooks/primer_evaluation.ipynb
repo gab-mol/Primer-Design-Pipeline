{
 "cells": [
  {
   "cell_type": "markdown",
   "id": "e0530813",
   "metadata": {},
   "source": [
    "# Primer evaluation\n",
    "\n",
    "This notebook evaluates the quality and specificity of primers obteined using sequence data retrieved from NCBI and processed with a bioinformatics pipeline."
   ]
  },
  {
   "cell_type": "markdown",
   "id": "c097444b",
   "metadata": {},
   "source": [
    "## Example | Genera: *Viola*, Gene: matK \n",
    "\n",
    "The **matK** gene in the genus *Viola*, is used for this example.\n",
    "\n",
    "> Input configuration (in **config/config.yml**)\n",
    ">```yml\n",
    ">entrez:\n",
    ">  genes: [\"matk\"]\n",
    ">  organisms: [\"viola\"]\n",
    ">  min_len: 200\n",
    ">  max_len: 2000\n",
    ">primer3:\n",
    ">  PRIMER_OPT_SIZE: 20\n",
    ">  PRIMER_MIN_SIZE: 18\n",
    ">  PRIMER_MAX_SIZE: 24\n",
    ">  PRIMER_PRODUCT_SIZE_RANGE: \"100-300\"\n",
    ">```\n",
    ">   *Executed: 2025/06/17*\n",
    "\n",
    "NCBI exploration with `Entrez` (rule: **exploration**) obtained  followed NCBIs IDs:\n",
    "\n",
    "```raw\n",
    "2838045729\t2838045547\t2838045453\n",
    "2838045268\t2820060830\t2820060822\n",
    "2820060818\t2820060814\t2629966613\n",
    "2736032405\t2736032403\t2736032401\n",
    "2736032399\t2736032397\t2718041013\n",
    "2687757718\t2502706083\t2502704783\n",
    "2502703935\t2618954001\t\n",
    "```"
   ]
  },
  {
   "cell_type": "markdown",
   "id": "a37a6a25",
   "metadata": {},
   "source": [
    "### Determine the amplicon for de selected primers\n",
    "\n",
    "The **primer pair** with the lowest penalty score was selected (**0.428421**), from the output file of de pipeline (generated: **data/viola_matk_primers.txt**)\n",
    "\n",
    "| Primer | Penalt. Score | Start. Pos. | Length | Sequence             |\n",
    "| ------ | ------------- | ----------- | ------ | -------------------- |\n",
    "| left   | 0.253347      | 613         | 20     | TCCAAGCATTCCCTCTCCCT |\n",
    "| right  | 0.175073      | 828         | 20     | ATCAGCCCGAGTCGGTTTAC |"
   ]
  },
  {
   "cell_type": "code",
   "execution_count": 1,
   "id": "430b55d4",
   "metadata": {},
   "outputs": [
    {
     "name": "stdout",
     "output_type": "stream",
     "text": [
      "\n",
      "Primer forward (5'→3'): TCTTTGCATTTATTACGACT\n",
      "Primer reverse (5'→3'): AAAGTATCTTTATATAAGCA\n",
      "\n",
      "Positions:\n",
      "Forward primer: 613–632\n",
      "Reverse primer: 828–847\n",
      "\n",
      "Amplicon:\n",
      "TCTTTGCATTTATTACGACTCTTTCTTCATGAGTATTGGAATTTGAnnnACAGTCTTATTATTCCAAAGAAATCTATTTCCATTTTTGCAAAGGATAATCCAAGATTATTCTTGTTCTTATATAATTTTCATGTATATGAATACGAATCTATTCTCTTCTTTCTTCGTAACCAATCCTTTCATTTACAATCAACATTTTTTCGAGTCCTTTTTGAACGAATATATTTCTATGAAA \n",
      "\n"
     ]
    }
   ],
   "source": [
    "# Amplicon for best primer pair\n",
    "from Bio import SeqIO\n",
    "from Bio.Seq import Seq\n",
    "from Bio.SeqRecord import SeqRecord\n",
    "from os.path import join, abspath, exists\n",
    "from os import getcwd\n",
    "\n",
    "genes = \"matk\"\n",
    "genera = \"viola\"\n",
    "\n",
    "PATH_CONS = abspath(join(getcwd(), \"..\", \"data\", f\"{genera}_{genes}_cons.fasta\"))\n",
    "PATH_AMP = abspath(join(getcwd(), \"..\", \"data\", f\"{genera}_{genes}_ampl.fasta\"))\n",
    "\n",
    "record = SeqIO.read(PATH_CONS, \"fasta\")\n",
    "sequence = str(record.seq)\n",
    "\n",
    "# Selected primers positions\n",
    "left_start = 613\n",
    "left_len = 20\n",
    "right_start = 828\n",
    "right_len = 20\n",
    "\n",
    "left_primer = sequence[left_start:left_start + left_len]\n",
    "right_primer = sequence[right_start:right_start + right_len]\n",
    "\n",
    "amplicon = sequence[left_start:right_start + right_len]\n",
    "\n",
    "print(\"\\nPrimer forward (5'→3'):\", left_primer)\n",
    "print(\"Primer reverse (5'→3'):\", right_primer[::-1])\n",
    "\n",
    "print(\"\\nPositions:\")\n",
    "print(f\"Forward primer: {left_start}–{left_start+left_len-1}\")\n",
    "print(f\"Reverse primer: {right_start}–{right_start+right_len-1}\")\n",
    "\n",
    "print(\"\\nAmplicon:\")\n",
    "print(amplicon, \"\\n\")\n",
    "\n",
    "record = SeqRecord(\n",
    "    Seq(amplicon),\n",
    "    id=\"viola_amplicon\",\n",
    "    description=\"PCR product using best primer pair\"\n",
    ")\n",
    "\n",
    "if not exists(PATH_AMP):\n",
    "    with open(PATH_AMP, \"w\") as handle:\n",
    "        SeqIO.write(record, handle, \"fasta\")\n"
   ]
  },
  {
   "cell_type": "markdown",
   "id": "673a8d2f",
   "metadata": {},
   "source": [
    "### BLAST Search and Hit Analysis\n",
    "\n",
    "To assess the specificity of the selected primers, a BLASTn search was conducted using the resulting amplicon against the NCBI nucleotide database (`nt`)."
   ]
  },
  {
   "cell_type": "code",
   "execution_count": 3,
   "id": "f69d4114",
   "metadata": {},
   "outputs": [],
   "source": [
    "# perform a BLAST search to NCBI sequences database\n",
    "from Bio.Blast import NCBIWWW\n",
    "from Bio import SeqIO\n",
    "import dotenv\n",
    "from os import getenv, getcwd\n",
    "from os.path import join, exists, abspath\n",
    "\n",
    "dotenv.load_dotenv()\n",
    "NCBIWWW.email = getenv(\"email\")\n",
    "\n",
    "genes = \"matk\"\n",
    "genera = \"viola\"\n",
    "\n",
    "PATH_AMP = abspath(join(getcwd(), \"..\", \"data\", f\"{genera}_{genes}_ampl.fasta\"))\n",
    "PATH_XML_BLAST = abspath(join(getcwd(), \"..\", \"data\", f\"{genera}_{genes}_blast.xml\"))\n",
    "\n",
    "amplicon = SeqIO.read(PATH_AMP, \"fasta\")\n",
    "\n",
    "# store results to XML\n",
    "if not exists(PATH_XML_BLAST):\n",
    "    result = NCBIWWW.qblast(\"blastn\", \"nt\", amplicon.seq)\n",
    "    with open(PATH_XML_BLAST, \"w\") as handle:\n",
    "        handle.write(result.read())\n",
    "        result.close()"
   ]
  },
  {
   "cell_type": "markdown",
   "id": "dc2f4a3c",
   "metadata": {},
   "source": [
    "The top hits are parsed and summarized in a table for further inspection."
   ]
  },
  {
   "cell_type": "code",
   "execution_count": 4,
   "id": "568bee92",
   "metadata": {},
   "outputs": [
    {
     "data": {
      "application/vnd.microsoft.datawrangler.viewer.v0+json": {
       "columns": [
        {
         "name": "index",
         "rawType": "int64",
         "type": "integer"
        },
        {
         "name": "Organism",
         "rawType": "object",
         "type": "string"
        },
        {
         "name": "Score",
         "rawType": "float64",
         "type": "float"
        },
        {
         "name": "E-value",
         "rawType": "float64",
         "type": "float"
        },
        {
         "name": "Identity (%)",
         "rawType": "float64",
         "type": "float"
        },
        {
         "name": "Align length",
         "rawType": "int64",
         "type": "integer"
        }
       ],
       "ref": "b7dac068-30fc-4e32-911e-9eaf94bfb6d7",
       "rows": [
        [
         "0",
         "Viola cucullata voucher AP011 maturase K (matK) gene, partial cds; chloroplast",
         "453.0",
         "1.44062e-109",
         "98.72",
         "235"
        ],
        [
         "1",
         "Viola elatior voucher KG23-0398 maturase K (matK) gene, partial cds; chloroplast",
         "453.0",
         "1.44062e-109",
         "98.72",
         "235"
        ],
        [
         "2",
         "Viola odorata genome assembly, organelle: plastid:chloroplast",
         "453.0",
         "1.44062e-109",
         "98.72",
         "235"
        ],
        [
         "3",
         "Viola renifolia voucher 09PROBE-05214 maturase K (matK) gene, partial cds; chloroplast",
         "453.0",
         "1.44062e-109",
         "98.72",
         "235"
        ],
        [
         "4",
         "Viola labradorica isolate AG2KK53 maturase K (matK) gene, partial cds; chloroplast",
         "453.0",
         "1.44062e-109",
         "98.72",
         "235"
        ],
        [
         "5",
         "Viola odorata chloroplast, complete genome",
         "453.0",
         "1.44062e-109",
         "98.72",
         "235"
        ],
        [
         "6",
         "Viola sororia isolate OSBAR 000338 maturase K (matK) gene, partial cds; chloroplast",
         "453.0",
         "1.44062e-109",
         "98.72",
         "235"
        ],
        [
         "7",
         "Viola labradorica voucher AP449 maturase K (matK) gene, partial cds; chloroplast",
         "453.0",
         "1.44062e-109",
         "98.72",
         "235"
        ],
        [
         "8",
         "Viola biflora chloroplast, complete genome",
         "453.0",
         "1.44062e-109",
         "98.72",
         "235"
        ],
        [
         "9",
         "Viola verecunda chloroplast, complete genome",
         "453.0",
         "1.44062e-109",
         "98.72",
         "235"
        ]
       ],
       "shape": {
        "columns": 5,
        "rows": 10
       }
      },
      "text/html": [
       "<div>\n",
       "<style scoped>\n",
       "    .dataframe tbody tr th:only-of-type {\n",
       "        vertical-align: middle;\n",
       "    }\n",
       "\n",
       "    .dataframe tbody tr th {\n",
       "        vertical-align: top;\n",
       "    }\n",
       "\n",
       "    .dataframe thead th {\n",
       "        text-align: right;\n",
       "    }\n",
       "</style>\n",
       "<table border=\"1\" class=\"dataframe\">\n",
       "  <thead>\n",
       "    <tr style=\"text-align: right;\">\n",
       "      <th></th>\n",
       "      <th>Organism</th>\n",
       "      <th>Score</th>\n",
       "      <th>E-value</th>\n",
       "      <th>Identity (%)</th>\n",
       "      <th>Align length</th>\n",
       "    </tr>\n",
       "  </thead>\n",
       "  <tbody>\n",
       "    <tr>\n",
       "      <th>0</th>\n",
       "      <td>Viola cucullata voucher AP011 maturase K (matK...</td>\n",
       "      <td>453.0</td>\n",
       "      <td>1.440620e-109</td>\n",
       "      <td>98.72</td>\n",
       "      <td>235</td>\n",
       "    </tr>\n",
       "    <tr>\n",
       "      <th>1</th>\n",
       "      <td>Viola elatior voucher KG23-0398 maturase K (ma...</td>\n",
       "      <td>453.0</td>\n",
       "      <td>1.440620e-109</td>\n",
       "      <td>98.72</td>\n",
       "      <td>235</td>\n",
       "    </tr>\n",
       "    <tr>\n",
       "      <th>2</th>\n",
       "      <td>Viola odorata genome assembly, organelle: plas...</td>\n",
       "      <td>453.0</td>\n",
       "      <td>1.440620e-109</td>\n",
       "      <td>98.72</td>\n",
       "      <td>235</td>\n",
       "    </tr>\n",
       "    <tr>\n",
       "      <th>3</th>\n",
       "      <td>Viola renifolia voucher 09PROBE-05214 maturase...</td>\n",
       "      <td>453.0</td>\n",
       "      <td>1.440620e-109</td>\n",
       "      <td>98.72</td>\n",
       "      <td>235</td>\n",
       "    </tr>\n",
       "    <tr>\n",
       "      <th>4</th>\n",
       "      <td>Viola labradorica isolate AG2KK53 maturase K (...</td>\n",
       "      <td>453.0</td>\n",
       "      <td>1.440620e-109</td>\n",
       "      <td>98.72</td>\n",
       "      <td>235</td>\n",
       "    </tr>\n",
       "    <tr>\n",
       "      <th>5</th>\n",
       "      <td>Viola odorata chloroplast, complete genome</td>\n",
       "      <td>453.0</td>\n",
       "      <td>1.440620e-109</td>\n",
       "      <td>98.72</td>\n",
       "      <td>235</td>\n",
       "    </tr>\n",
       "    <tr>\n",
       "      <th>6</th>\n",
       "      <td>Viola sororia isolate OSBAR 000338 maturase K ...</td>\n",
       "      <td>453.0</td>\n",
       "      <td>1.440620e-109</td>\n",
       "      <td>98.72</td>\n",
       "      <td>235</td>\n",
       "    </tr>\n",
       "    <tr>\n",
       "      <th>7</th>\n",
       "      <td>Viola labradorica voucher AP449 maturase K (ma...</td>\n",
       "      <td>453.0</td>\n",
       "      <td>1.440620e-109</td>\n",
       "      <td>98.72</td>\n",
       "      <td>235</td>\n",
       "    </tr>\n",
       "    <tr>\n",
       "      <th>8</th>\n",
       "      <td>Viola biflora chloroplast, complete genome</td>\n",
       "      <td>453.0</td>\n",
       "      <td>1.440620e-109</td>\n",
       "      <td>98.72</td>\n",
       "      <td>235</td>\n",
       "    </tr>\n",
       "    <tr>\n",
       "      <th>9</th>\n",
       "      <td>Viola verecunda chloroplast, complete genome</td>\n",
       "      <td>453.0</td>\n",
       "      <td>1.440620e-109</td>\n",
       "      <td>98.72</td>\n",
       "      <td>235</td>\n",
       "    </tr>\n",
       "  </tbody>\n",
       "</table>\n",
       "</div>"
      ],
      "text/plain": [
       "                                            Organism  Score        E-value  \\\n",
       "0  Viola cucullata voucher AP011 maturase K (matK...  453.0  1.440620e-109   \n",
       "1  Viola elatior voucher KG23-0398 maturase K (ma...  453.0  1.440620e-109   \n",
       "2  Viola odorata genome assembly, organelle: plas...  453.0  1.440620e-109   \n",
       "3  Viola renifolia voucher 09PROBE-05214 maturase...  453.0  1.440620e-109   \n",
       "4  Viola labradorica isolate AG2KK53 maturase K (...  453.0  1.440620e-109   \n",
       "5         Viola odorata chloroplast, complete genome  453.0  1.440620e-109   \n",
       "6  Viola sororia isolate OSBAR 000338 maturase K ...  453.0  1.440620e-109   \n",
       "7  Viola labradorica voucher AP449 maturase K (ma...  453.0  1.440620e-109   \n",
       "8         Viola biflora chloroplast, complete genome  453.0  1.440620e-109   \n",
       "9       Viola verecunda chloroplast, complete genome  453.0  1.440620e-109   \n",
       "\n",
       "   Identity (%)  Align length  \n",
       "0         98.72           235  \n",
       "1         98.72           235  \n",
       "2         98.72           235  \n",
       "3         98.72           235  \n",
       "4         98.72           235  \n",
       "5         98.72           235  \n",
       "6         98.72           235  \n",
       "7         98.72           235  \n",
       "8         98.72           235  \n",
       "9         98.72           235  "
      ]
     },
     "execution_count": 4,
     "metadata": {},
     "output_type": "execute_result"
    }
   ],
   "source": [
    "# result tabulation\n",
    "from Bio.Blast import NCBIXML\n",
    "import pandas as pd\n",
    "\n",
    "with open(PATH_XML_BLAST) as result:\n",
    "    blast_record = NCBIXML.read(result)\n",
    "\n",
    "data = []\n",
    "for alignment in blast_record.alignments:\n",
    "    hsp = alignment.hsps[0]\n",
    "    identity = (hsp.identities / hsp.align_length) * 100\n",
    "    data.append({\n",
    "        \"Organism\": alignment.hit_def,\n",
    "        \"Score\": hsp.score,\n",
    "        \"E-value\": hsp.expect,\n",
    "        \"Identity (%)\": round(identity, 2),\n",
    "        \"Align length\": hsp.align_length\n",
    "    })\n",
    "\n",
    "df_hits = pd.DataFrame(data)\n",
    "\n",
    "df_hits.head(10)"
   ]
  },
  {
   "cell_type": "markdown",
   "id": "33d7631e",
   "metadata": {},
   "source": [
    "Confirm specificity using a quick filter operation"
   ]
  },
  {
   "cell_type": "code",
   "execution_count": 5,
   "id": "c468fde6",
   "metadata": {},
   "outputs": [
    {
     "name": "stdout",
     "output_type": "stream",
     "text": [
      "Total hits: 50\n",
      "Hits matching 'Viola': 50\n"
     ]
    },
    {
     "data": {
      "application/vnd.microsoft.datawrangler.viewer.v0+json": {
       "columns": [
        {
         "name": "index",
         "rawType": "int64",
         "type": "integer"
        },
        {
         "name": "Organism",
         "rawType": "object",
         "type": "string"
        },
        {
         "name": "Score",
         "rawType": "float64",
         "type": "float"
        },
        {
         "name": "E-value",
         "rawType": "float64",
         "type": "float"
        },
        {
         "name": "Identity (%)",
         "rawType": "float64",
         "type": "float"
        },
        {
         "name": "Align length",
         "rawType": "int64",
         "type": "integer"
        }
       ],
       "ref": "5505b816-7844-4bb6-b121-b496dd1578f5",
       "rows": [
        [
         "0",
         "Viola cucullata voucher AP011 maturase K (matK) gene, partial cds; chloroplast",
         "453.0",
         "1.44062e-109",
         "98.72",
         "235"
        ],
        [
         "1",
         "Viola elatior voucher KG23-0398 maturase K (matK) gene, partial cds; chloroplast",
         "453.0",
         "1.44062e-109",
         "98.72",
         "235"
        ],
        [
         "2",
         "Viola odorata genome assembly, organelle: plastid:chloroplast",
         "453.0",
         "1.44062e-109",
         "98.72",
         "235"
        ],
        [
         "3",
         "Viola renifolia voucher 09PROBE-05214 maturase K (matK) gene, partial cds; chloroplast",
         "453.0",
         "1.44062e-109",
         "98.72",
         "235"
        ],
        [
         "4",
         "Viola labradorica isolate AG2KK53 maturase K (matK) gene, partial cds; chloroplast",
         "453.0",
         "1.44062e-109",
         "98.72",
         "235"
        ],
        [
         "5",
         "Viola odorata chloroplast, complete genome",
         "453.0",
         "1.44062e-109",
         "98.72",
         "235"
        ],
        [
         "6",
         "Viola sororia isolate OSBAR 000338 maturase K (matK) gene, partial cds; chloroplast",
         "453.0",
         "1.44062e-109",
         "98.72",
         "235"
        ],
        [
         "7",
         "Viola labradorica voucher AP449 maturase K (matK) gene, partial cds; chloroplast",
         "453.0",
         "1.44062e-109",
         "98.72",
         "235"
        ],
        [
         "8",
         "Viola biflora chloroplast, complete genome",
         "453.0",
         "1.44062e-109",
         "98.72",
         "235"
        ],
        [
         "9",
         "Viola verecunda chloroplast, complete genome",
         "453.0",
         "1.44062e-109",
         "98.72",
         "235"
        ]
       ],
       "shape": {
        "columns": 5,
        "rows": 10
       }
      },
      "text/html": [
       "<div>\n",
       "<style scoped>\n",
       "    .dataframe tbody tr th:only-of-type {\n",
       "        vertical-align: middle;\n",
       "    }\n",
       "\n",
       "    .dataframe tbody tr th {\n",
       "        vertical-align: top;\n",
       "    }\n",
       "\n",
       "    .dataframe thead th {\n",
       "        text-align: right;\n",
       "    }\n",
       "</style>\n",
       "<table border=\"1\" class=\"dataframe\">\n",
       "  <thead>\n",
       "    <tr style=\"text-align: right;\">\n",
       "      <th></th>\n",
       "      <th>Organism</th>\n",
       "      <th>Score</th>\n",
       "      <th>E-value</th>\n",
       "      <th>Identity (%)</th>\n",
       "      <th>Align length</th>\n",
       "    </tr>\n",
       "  </thead>\n",
       "  <tbody>\n",
       "    <tr>\n",
       "      <th>0</th>\n",
       "      <td>Viola cucullata voucher AP011 maturase K (matK...</td>\n",
       "      <td>453.0</td>\n",
       "      <td>1.440620e-109</td>\n",
       "      <td>98.72</td>\n",
       "      <td>235</td>\n",
       "    </tr>\n",
       "    <tr>\n",
       "      <th>1</th>\n",
       "      <td>Viola elatior voucher KG23-0398 maturase K (ma...</td>\n",
       "      <td>453.0</td>\n",
       "      <td>1.440620e-109</td>\n",
       "      <td>98.72</td>\n",
       "      <td>235</td>\n",
       "    </tr>\n",
       "    <tr>\n",
       "      <th>2</th>\n",
       "      <td>Viola odorata genome assembly, organelle: plas...</td>\n",
       "      <td>453.0</td>\n",
       "      <td>1.440620e-109</td>\n",
       "      <td>98.72</td>\n",
       "      <td>235</td>\n",
       "    </tr>\n",
       "    <tr>\n",
       "      <th>3</th>\n",
       "      <td>Viola renifolia voucher 09PROBE-05214 maturase...</td>\n",
       "      <td>453.0</td>\n",
       "      <td>1.440620e-109</td>\n",
       "      <td>98.72</td>\n",
       "      <td>235</td>\n",
       "    </tr>\n",
       "    <tr>\n",
       "      <th>4</th>\n",
       "      <td>Viola labradorica isolate AG2KK53 maturase K (...</td>\n",
       "      <td>453.0</td>\n",
       "      <td>1.440620e-109</td>\n",
       "      <td>98.72</td>\n",
       "      <td>235</td>\n",
       "    </tr>\n",
       "    <tr>\n",
       "      <th>5</th>\n",
       "      <td>Viola odorata chloroplast, complete genome</td>\n",
       "      <td>453.0</td>\n",
       "      <td>1.440620e-109</td>\n",
       "      <td>98.72</td>\n",
       "      <td>235</td>\n",
       "    </tr>\n",
       "    <tr>\n",
       "      <th>6</th>\n",
       "      <td>Viola sororia isolate OSBAR 000338 maturase K ...</td>\n",
       "      <td>453.0</td>\n",
       "      <td>1.440620e-109</td>\n",
       "      <td>98.72</td>\n",
       "      <td>235</td>\n",
       "    </tr>\n",
       "    <tr>\n",
       "      <th>7</th>\n",
       "      <td>Viola labradorica voucher AP449 maturase K (ma...</td>\n",
       "      <td>453.0</td>\n",
       "      <td>1.440620e-109</td>\n",
       "      <td>98.72</td>\n",
       "      <td>235</td>\n",
       "    </tr>\n",
       "    <tr>\n",
       "      <th>8</th>\n",
       "      <td>Viola biflora chloroplast, complete genome</td>\n",
       "      <td>453.0</td>\n",
       "      <td>1.440620e-109</td>\n",
       "      <td>98.72</td>\n",
       "      <td>235</td>\n",
       "    </tr>\n",
       "    <tr>\n",
       "      <th>9</th>\n",
       "      <td>Viola verecunda chloroplast, complete genome</td>\n",
       "      <td>453.0</td>\n",
       "      <td>1.440620e-109</td>\n",
       "      <td>98.72</td>\n",
       "      <td>235</td>\n",
       "    </tr>\n",
       "  </tbody>\n",
       "</table>\n",
       "</div>"
      ],
      "text/plain": [
       "                                            Organism  Score        E-value  \\\n",
       "0  Viola cucullata voucher AP011 maturase K (matK...  453.0  1.440620e-109   \n",
       "1  Viola elatior voucher KG23-0398 maturase K (ma...  453.0  1.440620e-109   \n",
       "2  Viola odorata genome assembly, organelle: plas...  453.0  1.440620e-109   \n",
       "3  Viola renifolia voucher 09PROBE-05214 maturase...  453.0  1.440620e-109   \n",
       "4  Viola labradorica isolate AG2KK53 maturase K (...  453.0  1.440620e-109   \n",
       "5         Viola odorata chloroplast, complete genome  453.0  1.440620e-109   \n",
       "6  Viola sororia isolate OSBAR 000338 maturase K ...  453.0  1.440620e-109   \n",
       "7  Viola labradorica voucher AP449 maturase K (ma...  453.0  1.440620e-109   \n",
       "8         Viola biflora chloroplast, complete genome  453.0  1.440620e-109   \n",
       "9       Viola verecunda chloroplast, complete genome  453.0  1.440620e-109   \n",
       "\n",
       "   Identity (%)  Align length  \n",
       "0         98.72           235  \n",
       "1         98.72           235  \n",
       "2         98.72           235  \n",
       "3         98.72           235  \n",
       "4         98.72           235  \n",
       "5         98.72           235  \n",
       "6         98.72           235  \n",
       "7         98.72           235  \n",
       "8         98.72           235  \n",
       "9         98.72           235  "
      ]
     },
     "execution_count": 5,
     "metadata": {},
     "output_type": "execute_result"
    }
   ],
   "source": [
    "# hits summary\n",
    "viola_hits = df_hits[df_hits[\"Organism\"].str.contains(\"Viola\")]\n",
    "print(f\"Total hits: {len(df_hits)}\")\n",
    "print(f\"Hits matching 'Viola': {len(viola_hits)}\")\n",
    "\n",
    "viola_hits.head(10)"
   ]
  },
  {
   "cell_type": "markdown",
   "id": "ae8ada72",
   "metadata": {},
   "source": [
    "### Conclusion\n",
    "The BLAST results show that the amplicon generated by the best-scoring primers aligns almost exclusively with sequences from the genus *Viola*, suggesting a high degree of specificity.\n",
    "\n",
    "This indicates that the **primer3-based pipeline** performs well for this target region, at least in silico. Further experimental validation (e.g., PCR tests with DNA from *Viola* and non-*Viola* species) is needed to confirm these results in vitro.\n",
    "\n",
    "This step completes the initial validation phase and supports the pipeline's ability to design genus-specific primers."
   ]
  }
 ],
 "metadata": {
  "kernelspec": {
   "display_name": ".env",
   "language": "python",
   "name": "python3"
  },
  "language_info": {
   "codemirror_mode": {
    "name": "ipython",
    "version": 3
   },
   "file_extension": ".py",
   "mimetype": "text/x-python",
   "name": "python",
   "nbconvert_exporter": "python",
   "pygments_lexer": "ipython3",
   "version": "3.11.13"
  }
 },
 "nbformat": 4,
 "nbformat_minor": 5
}
